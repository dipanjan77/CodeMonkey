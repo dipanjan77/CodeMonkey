{
 "cells": [
  {
   "cell_type": "code",
   "execution_count": 26,
   "metadata": {},
   "outputs": [],
   "source": [
    "import azureml.core"
   ]
  },
  {
   "cell_type": "code",
   "execution_count": 27,
   "metadata": {},
   "outputs": [
    {
     "name": "stdout",
     "output_type": "stream",
     "text": [
      "0.1.59\n"
     ]
    }
   ],
   "source": [
    "print(azureml.core.VERSION)"
   ]
  },
  {
   "cell_type": "code",
   "execution_count": 8,
   "metadata": {},
   "outputs": [],
   "source": [
    "from azureml.core import Workspace"
   ]
  },
  {
   "cell_type": "code",
   "execution_count": 9,
   "metadata": {},
   "outputs": [
    {
     "name": "stdout",
     "output_type": "stream",
     "text": [
      "Performing interactive authentication. Please follow the instructions on the terminal.\n"
     ]
    },
    {
     "name": "stderr",
     "output_type": "stream",
     "text": [
      "Note, we have launched a browser for you to login. For old experience with device code, use \"az login --use-device-code\"\n",
      "You have logged in. Now let us find all the subscriptions to which you have access...\n"
     ]
    },
    {
     "name": "stdout",
     "output_type": "stream",
     "text": [
      "Interactive authentication successfully completed.\n"
     ]
    },
    {
     "name": "stderr",
     "output_type": "stream",
     "text": [
      "UserWarning: The resource group doesn't exist or was not provided. AzureML SDK is creating a resource group=dipanb_aml_sdk in location=eastus2 using subscription=e91107f8-bd8c-4517-8c8b-14879a7dbec4.\n"
     ]
    }
   ],
   "source": [
    "ws=Workspace.create(name='dipanb-sdk',\n",
    "                    subscription_id='e91107f8-bd8c-4517-8c8b-14879a7dbec4',\n",
    "                    resource_group='dipanb_aml_sdk',\n",
    "                    create_resource_group=True,\n",
    "                    location='eastus2')"
   ]
  },
  {
   "cell_type": "code",
   "execution_count": 10,
   "metadata": {},
   "outputs": [
    {
     "data": {
      "text/plain": [
       "{'id': '/subscriptions/e91107f8-bd8c-4517-8c8b-14879a7dbec4/resourceGroups/dipanb_aml_sdk/providers/Microsoft.MachineLearningServices/workspaces/dipanb-sdk',\n",
       " 'name': 'dipanb-sdk',\n",
       " 'location': 'eastus2',\n",
       " 'type': 'Microsoft.MachineLearningServices/workspaces',\n",
       " 'description': '',\n",
       " 'friendlyName': 'dipanb-sdk',\n",
       " 'containerRegistry': '/subscriptions/e91107f8-bd8c-4517-8c8b-14879a7dbec4/resourcegroups/dipanb_aml_sdk/providers/microsoft.containerregistry/registries/dipanbsdacrxynapuzi',\n",
       " 'keyVault': '/subscriptions/e91107f8-bd8c-4517-8c8b-14879a7dbec4/resourcegroups/dipanb_aml_sdk/providers/microsoft.keyvault/vaults/dipanbsdkeyvaultynzqrcub',\n",
       " 'applicationInsights': '/subscriptions/e91107f8-bd8c-4517-8c8b-14879a7dbec4/resourcegroups/dipanb_aml_sdk/providers/microsoft.insights/components/dipanbsdinsightsukobfmnl',\n",
       " 'batchaiWorkspace': '/subscriptions/e91107f8-bd8c-4517-8c8b-14879a7dbec4/resourceGroups/dipanb_aml_sdk/providers/Microsoft.BatchAI/workspaces/dipanb-sdk',\n",
       " 'identityPrincipalId': 'f1c57e8c-f6a9-4d8a-9ff0-90ced390126a',\n",
       " 'identityTenantId': '72f988bf-86f1-41af-91ab-2d7cd011db47',\n",
       " 'identityType': 'SystemAssigned',\n",
       " 'storageAccount': '/subscriptions/e91107f8-bd8c-4517-8c8b-14879a7dbec4/resourcegroups/dipanb_aml_sdk/providers/microsoft.storage/storageaccounts/dipanbsdstorageejmifsri'}"
      ]
     },
     "execution_count": 10,
     "metadata": {},
     "output_type": "execute_result"
    }
   ],
   "source": [
    "ws.get_details()"
   ]
  },
  {
   "cell_type": "code",
   "execution_count": 11,
   "metadata": {},
   "outputs": [
    {
     "name": "stdout",
     "output_type": "stream",
     "text": [
      "Wrote the config file config.json to: C:\\WORKAREA\\GitHub\\CodeMonkey\\Machine Learning\\AML\\aml_config\\config.json\n"
     ]
    }
   ],
   "source": [
    "ws.write_config()"
   ]
  },
  {
   "cell_type": "code",
   "execution_count": 19,
   "metadata": {},
   "outputs": [],
   "source": [
    "from azureml.core import Experiment"
   ]
  },
  {
   "cell_type": "code",
   "execution_count": 20,
   "metadata": {},
   "outputs": [],
   "source": [
    "exp=Experiment(workspace=ws, name='myexpfromsdk')"
   ]
  },
  {
   "cell_type": "code",
   "execution_count": 21,
   "metadata": {},
   "outputs": [],
   "source": [
    "run=exp.start_logging()"
   ]
  },
  {
   "cell_type": "code",
   "execution_count": 22,
   "metadata": {},
   "outputs": [],
   "source": [
    "run.log(\"my magic number\", 42)"
   ]
  },
  {
   "cell_type": "code",
   "execution_count": 23,
   "metadata": {},
   "outputs": [],
   "source": [
    "run.log_list(\"my list\", [1,2,5,2,7,8,2])"
   ]
  },
  {
   "cell_type": "code",
   "execution_count": 24,
   "metadata": {},
   "outputs": [],
   "source": [
    "run.complete()"
   ]
  },
  {
   "cell_type": "code",
   "execution_count": 25,
   "metadata": {},
   "outputs": [
    {
     "data": {
      "text/html": [
       "<table style=\"width:100%\"><tr><th>Experiment</th><th>Id</th><th>Type</th><th>Status</th><th>Details Page</th><th>Docs Page</th></tr><tr><td>myexpfromsdk</td><td>a483c366-48f6-4216-a1ed-016db8b1b463</td><td></td><td>Completed</td><td><a href=\"https://mlworkspace.azure.ai/portal/subscriptions/e91107f8-bd8c-4517-8c8b-14879a7dbec4/resourceGroups/dipanb_aml_sdk/providers/Microsoft.MachineLearningServices/workspaces/dipanb-sdk/experiments/myexpfromsdk/runs/a483c366-48f6-4216-a1ed-016db8b1b463\" target=\"_blank\" rel=\"noopener\">Link to Azure Portal</a></td><td><a href=\"https://docs.microsoft.com/en-us/python/api/azureml-core/azureml.core.run.Run?view=azure-ml-py\" target=\"_blank\" rel=\"noopener\">Link to Documentation</a></td></tr></table>"
      ],
      "text/plain": [
       "Run(Experiment: myexpfromsdk,\n",
       "Id: a483c366-48f6-4216-a1ed-016db8b1b463,\n",
       "Type: None,\n",
       "Status: Completed)"
      ]
     },
     "execution_count": 25,
     "metadata": {},
     "output_type": "execute_result"
    }
   ],
   "source": [
    "run"
   ]
  },
  {
   "cell_type": "code",
   "execution_count": null,
   "metadata": {},
   "outputs": [],
   "source": []
  }
 ],
 "metadata": {
  "kernelspec": {
   "display_name": "Python 3",
   "language": "python",
   "name": "python3"
  },
  "language_info": {
   "codemirror_mode": {
    "name": "ipython",
    "version": 3
   },
   "file_extension": ".py",
   "mimetype": "text/x-python",
   "name": "python",
   "nbconvert_exporter": "python",
   "pygments_lexer": "ipython3",
   "version": "3.6.7"
  }
 },
 "nbformat": 4,
 "nbformat_minor": 2
}
