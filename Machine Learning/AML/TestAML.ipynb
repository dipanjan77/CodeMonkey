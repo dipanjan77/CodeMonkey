{
 "cells": [
  {
   "cell_type": "code",
   "execution_count": 1,
   "metadata": {},
   "outputs": [
    {
     "name": "stdout",
     "output_type": "stream",
     "text": [
      "0.1.80\n"
     ]
    }
   ],
   "source": [
    "import azureml.core\n",
    "print(azureml.core.VERSION)"
   ]
  },
  {
   "cell_type": "code",
   "execution_count": 13,
   "metadata": {},
   "outputs": [],
   "source": [
    "from azureml.core import Workspace"
   ]
  },
  {
   "cell_type": "code",
   "execution_count": 14,
   "metadata": {},
   "outputs": [],
   "source": [
    "ws=Workspace.get(name='dipanb_ws',\n",
    "                 subscription_id='e91107f8-bd8c-4517-8c8b-14879a7dbec4',\n",
    "                 resource_group='dipanb_aml')"
   ]
  },
  {
   "cell_type": "code",
   "execution_count": 15,
   "metadata": {},
   "outputs": [
    {
     "data": {
      "text/plain": [
       "{'id': '/subscriptions/e91107f8-bd8c-4517-8c8b-14879a7dbec4/resourceGroups/dipanb_aml/providers/Microsoft.MachineLearningServices/workspaces/dipanb_ws',\n",
       " 'name': 'dipanb_ws',\n",
       " 'location': 'westus2',\n",
       " 'type': 'Microsoft.MachineLearningServices/workspaces',\n",
       " 'description': '',\n",
       " 'friendlyName': '',\n",
       " 'containerRegistry': '/subscriptions/e91107f8-bd8c-4517-8c8b-14879a7dbec4/resourcegroups/dipanb_aml/providers/microsoft.containerregistry/registries/dipanbws6144252886',\n",
       " 'keyVault': '/subscriptions/e91107f8-bd8c-4517-8c8b-14879a7dbec4/resourcegroups/dipanb_aml/providers/microsoft.keyvault/vaults/dipanbws8256180096',\n",
       " 'applicationInsights': '/subscriptions/e91107f8-bd8c-4517-8c8b-14879a7dbec4/resourcegroups/dipanb_aml/providers/microsoft.insights/components/dipanbws5205911557',\n",
       " 'batchaiWorkspace': '/subscriptions/e91107f8-bd8c-4517-8c8b-14879a7dbec4/resourceGroups/dipanb_aml/providers/Microsoft.BatchAI/workspaces/dipanb_ws',\n",
       " 'identityPrincipalId': 'dd9182e4-286d-4ac2-9205-94e1afd7c866',\n",
       " 'identityTenantId': '72f988bf-86f1-41af-91ab-2d7cd011db47',\n",
       " 'identityType': 'SystemAssigned',\n",
       " 'storageAccount': '/subscriptions/e91107f8-bd8c-4517-8c8b-14879a7dbec4/resourcegroups/dipanb_aml/providers/microsoft.storage/storageaccounts/dipanbws6592865184'}"
      ]
     },
     "execution_count": 15,
     "metadata": {},
     "output_type": "execute_result"
    }
   ],
   "source": [
    "ws.get_details()"
   ]
  },
  {
   "cell_type": "code",
   "execution_count": 16,
   "metadata": {},
   "outputs": [
    {
     "name": "stdout",
     "output_type": "stream",
     "text": [
      "Wrote the config file config.json to: C:\\WORKAREA\\GitHub\\CodeMonkey\\Machine Learning\\AML\\aml_config\\config.json\n"
     ]
    }
   ],
   "source": [
    "ws.write_config()"
   ]
  },
  {
   "cell_type": "code",
   "execution_count": 5,
   "metadata": {},
   "outputs": [],
   "source": [
    "from azureml.core import Experiment"
   ]
  },
  {
   "cell_type": "code",
   "execution_count": 6,
   "metadata": {},
   "outputs": [],
   "source": [
    "exp=Experiment(workspace=ws, name='myexpfromsdk')"
   ]
  },
  {
   "cell_type": "code",
   "execution_count": 7,
   "metadata": {},
   "outputs": [],
   "source": [
    "run=exp.start_logging()"
   ]
  },
  {
   "cell_type": "code",
   "execution_count": 8,
   "metadata": {},
   "outputs": [],
   "source": [
    "run.log(\"my magic number\", 42)"
   ]
  },
  {
   "cell_type": "code",
   "execution_count": 9,
   "metadata": {},
   "outputs": [],
   "source": [
    "run.log_list(\"my list\", [1,2,5,2,7,8,2,15,3,20])"
   ]
  },
  {
   "cell_type": "code",
   "execution_count": 10,
   "metadata": {},
   "outputs": [],
   "source": [
    "run.complete()"
   ]
  },
  {
   "cell_type": "code",
   "execution_count": 11,
   "metadata": {},
   "outputs": [
    {
     "data": {
      "text/html": [
       "<table style=\"width:100%\"><tr><th>Experiment</th><th>Id</th><th>Type</th><th>Status</th><th>Details Page</th><th>Docs Page</th></tr><tr><td>myexpfromsdk</td><td>632bb549-d815-41a0-a9c3-7e8504ed6d0a</td><td></td><td>Completed</td><td><a href=\"https://mlworkspace.azure.ai/portal/subscriptions/e91107f8-bd8c-4517-8c8b-14879a7dbec4/resourceGroups/dipanb_aml/providers/Microsoft.MachineLearningServices/workspaces/dipanb_ws/experiments/myexpfromsdk/runs/632bb549-d815-41a0-a9c3-7e8504ed6d0a\" target=\"_blank\" rel=\"noopener\">Link to Azure Portal</a></td><td><a href=\"https://docs.microsoft.com/en-us/python/api/azureml-core/azureml.core.run.Run?view=azure-ml-py\" target=\"_blank\" rel=\"noopener\">Link to Documentation</a></td></tr></table>"
      ],
      "text/plain": [
       "Run(Experiment: myexpfromsdk,\n",
       "Id: 632bb549-d815-41a0-a9c3-7e8504ed6d0a,\n",
       "Type: None,\n",
       "Status: Completed)"
      ]
     },
     "execution_count": 11,
     "metadata": {},
     "output_type": "execute_result"
    }
   ],
   "source": [
    "run"
   ]
  },
  {
   "cell_type": "code",
   "execution_count": null,
   "metadata": {},
   "outputs": [],
   "source": []
  }
 ],
 "metadata": {
  "kernelspec": {
   "display_name": "Python 3",
   "language": "python",
   "name": "python3"
  },
  "language_info": {
   "codemirror_mode": {
    "name": "ipython",
    "version": 3
   },
   "file_extension": ".py",
   "mimetype": "text/x-python",
   "name": "python",
   "nbconvert_exporter": "python",
   "pygments_lexer": "ipython3",
   "version": "3.6.7"
  }
 },
 "nbformat": 4,
 "nbformat_minor": 2
}
