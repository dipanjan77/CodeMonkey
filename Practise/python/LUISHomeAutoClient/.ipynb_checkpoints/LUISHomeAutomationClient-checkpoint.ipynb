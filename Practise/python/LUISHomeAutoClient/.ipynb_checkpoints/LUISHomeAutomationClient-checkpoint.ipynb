{
 "cells": [
  {
   "cell_type": "code",
   "execution_count": 1,
   "metadata": {},
   "outputs": [],
   "source": [
    "import requests\n",
    "import yaml"
   ]
  },
  {
   "cell_type": "code",
   "execution_count": 10,
   "metadata": {},
   "outputs": [],
   "source": [
    "with open(\"connection.config\",'r') as ymlfile:\n",
    "    cfg=yaml.load(ymlfile)\n",
    "    \n",
    "\n",
    "headers ={\n",
    "    'Ocp-Apim-Subscription-Key': 'a82026dab2224b4db0f31ba19681c224',\n",
    "}\n",
    "params = {\n",
    "    'q':'turn on the left light',\n",
    "    'timezoneOffset': '0',\n",
    "    'verbose': 'false',\n",
    "    'spellCheck': 'false',\n",
    "    'staging': 'true',\n",
    "}"
   ]
  },
  {
   "cell_type": "code",
   "execution_count": 11,
   "metadata": {},
   "outputs": [],
   "source": [
    "r = requests.get('https://westus.api.cognitive.microsoft.com/luis/v2.0/apps/b72bb65b-af72-44de-9ddd-dd88ff12b56a',headers=headers, params=params)   \n",
    "    "
   ]
  },
  {
   "cell_type": "code",
   "execution_count": 12,
   "metadata": {},
   "outputs": [
    {
     "name": "stdout",
     "output_type": "stream",
     "text": [
      "{'query': 'turn on the left light', 'topScoringIntent': {'intent': 'HomeAutomation.TurnOn', 'score': 0.974233}, 'entities': [{'entity': 'light', 'type': 'HomeAutomation.Device', 'startIndex': 17, 'endIndex': 21, 'score': 0.944173932}, {'entity': 'left', 'type': 'HomeAutomation.Room', 'startIndex': 12, 'endIndex': 15, 'score': 0.5236616}]}\n"
     ]
    }
   ],
   "source": [
    "print(r.json() )"
   ]
  },
  {
   "cell_type": "code",
   "execution_count": null,
   "metadata": {},
   "outputs": [],
   "source": []
  }
 ],
 "metadata": {
  "kernelspec": {
   "display_name": "Python 3",
   "language": "python",
   "name": "python3"
  },
  "language_info": {
   "codemirror_mode": {
    "name": "ipython",
    "version": 3
   },
   "file_extension": ".py",
   "mimetype": "text/x-python",
   "name": "python",
   "nbconvert_exporter": "python",
   "pygments_lexer": "ipython3",
   "version": "3.6.5"
  }
 },
 "nbformat": 4,
 "nbformat_minor": 2
}
