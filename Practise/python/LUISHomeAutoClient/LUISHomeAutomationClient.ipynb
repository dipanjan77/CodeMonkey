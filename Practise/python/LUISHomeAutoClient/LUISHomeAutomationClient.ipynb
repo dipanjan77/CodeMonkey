{
 "cells": [
  {
   "cell_type": "code",
   "execution_count": 40,
   "metadata": {},
   "outputs": [],
   "source": [
    "import requests\n",
    "import yaml"
   ]
  },
  {
   "cell_type": "code",
   "execution_count": 41,
   "metadata": {},
   "outputs": [],
   "source": [
    "with open(\"connection.config\",'r') as ymlfile:\n",
    "    cfg=yaml.load(ymlfile)"
   ]
  },
  {
   "cell_type": "code",
   "execution_count": 42,
   "metadata": {},
   "outputs": [],
   "source": [
    "subscription_key=cfg[\"Ocp-Apim-Subscription-Key\"]\n",
    "q=cfg[\"q\"]\n",
    "uri=cfg[\"uri\"]\n"
   ]
  },
  {
   "cell_type": "code",
   "execution_count": 43,
   "metadata": {},
   "outputs": [],
   "source": [
    "\n",
    "headers ={\n",
    "    'Ocp-Apim-Subscription-Key': subscription_key,\n",
    "}\n",
    "params = {\n",
    "    'q':q,\n",
    "    'timezoneOffset': '0',\n",
    "    'verbose': 'true',\n",
    "    'spellCheck': 'false',\n",
    "    'staging': 'true',\n",
    "}"
   ]
  },
  {
   "cell_type": "code",
   "execution_count": 44,
   "metadata": {},
   "outputs": [],
   "source": [
    "r = requests.get(uri,headers=headers, params=params)   \n",
    "    "
   ]
  },
  {
   "cell_type": "code",
   "execution_count": 45,
   "metadata": {},
   "outputs": [
    {
     "name": "stdout",
     "output_type": "stream",
     "text": [
      "{\r\n",
      "  \"query\": \"Turn on the bedroom tv\",\r\n",
      "  \"topScoringIntent\": {\r\n",
      "    \"intent\": \"HomeAutomation.TurnOn\",\r\n",
      "    \"score\": 0.837714255\r\n",
      "  },\r\n",
      "  \"intents\": [\r\n",
      "    {\r\n",
      "      \"intent\": \"HomeAutomation.TurnOn\",\r\n",
      "      \"score\": 0.837714255\r\n",
      "    },\r\n",
      "    {\r\n",
      "      \"intent\": \"None\",\r\n",
      "      \"score\": 0.141233966\r\n",
      "    },\r\n",
      "    {\r\n",
      "      \"intent\": \"HomeAutomation.TurnOff\",\r\n",
      "      \"score\": 0.0317026041\r\n",
      "    }\r\n",
      "  ],\r\n",
      "  \"entities\": [\r\n",
      "    {\r\n",
      "      \"entity\": \"tv\",\r\n",
      "      \"type\": \"HomeAutomation.Device\",\r\n",
      "      \"startIndex\": 20,\r\n",
      "      \"endIndex\": 21,\r\n",
      "      \"score\": 0.9155012\r\n",
      "    },\r\n",
      "    {\r\n",
      "      \"entity\": \"bedroom\",\r\n",
      "      \"type\": \"HomeAutomation.Room\",\r\n",
      "      \"startIndex\": 12,\r\n",
      "      \"endIndex\": 18,\r\n",
      "      \"score\": 0.81068486\r\n",
      "    }\r\n",
      "  ]\r\n",
      "}\n"
     ]
    }
   ],
   "source": [
    "print(r.text )"
   ]
  },
  {
   "cell_type": "code",
   "execution_count": null,
   "metadata": {},
   "outputs": [],
   "source": []
  }
 ],
 "metadata": {
  "kernelspec": {
   "display_name": "Python 3",
   "language": "python",
   "name": "python3"
  },
  "language_info": {
   "codemirror_mode": {
    "name": "ipython",
    "version": 3
   },
   "file_extension": ".py",
   "mimetype": "text/x-python",
   "name": "python",
   "nbconvert_exporter": "python",
   "pygments_lexer": "ipython3",
   "version": "3.6.5"
  }
 },
 "nbformat": 4,
 "nbformat_minor": 2
}
